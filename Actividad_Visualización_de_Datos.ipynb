{
  "nbformat": 4,
  "nbformat_minor": 0,
  "metadata": {
    "colab": {
      "name": "Actividad Visualización de Datos.ipynb",
      "provenance": [],
      "collapsed_sections": [],
      "include_colab_link": true
    },
    "kernelspec": {
      "name": "python3",
      "display_name": "Python 3"
    },
    "language_info": {
      "name": "python"
    }
  },
  "cells": [
    {
      "cell_type": "markdown",
      "metadata": {
        "id": "view-in-github",
        "colab_type": "text"
      },
      "source": [
        "<a href=\"https://colab.research.google.com/github/sofgqv/UTEC_202101_ICC_104_Grupo02/blob/main/Actividad_Visualizaci%C3%B3n_de_Datos.ipynb\" target=\"_parent\"><img src=\"https://colab.research.google.com/assets/colab-badge.svg\" alt=\"Open In Colab\"/></a>"
      ]
    },
    {
      "cell_type": "code",
      "metadata": {
        "id": "N-iz2fKcMI5w",
        "colab": {
          "base_uri": "https://localhost:8080/"
        },
        "outputId": "6df97b20-bb8c-46ee-edef-16d28b887395"
      },
      "source": [
        "from graphviz import Graph\n",
        "from graphviz import Digraph\n",
        "from graphviz import Source\n",
        "M = int(input(\"Ingrese la cantidad de países: \"))\n",
        "listapaises = []\n",
        "for i in range(M):\n",
        "    listapaises.append(str(input(\"Ingrese un país: \")))"
      ],
      "execution_count": null,
      "outputs": [
        {
          "output_type": "stream",
          "text": [
            "Ingrese la cantidad de países: 5\n",
            "Ingrese un país: colombia\n",
            "Ingrese un país: peru\n",
            "Ingrese un país: chile\n",
            "Ingrese un país: argentina\n",
            "Ingrese un país: brazil\n"
          ],
          "name": "stdout"
        }
      ]
    },
    {
      "cell_type": "code",
      "metadata": {
        "colab": {
          "base_uri": "https://localhost:8080/"
        },
        "id": "U3RrKI4gMQlB",
        "outputId": "675fc704-9e30-4ece-e646-90280888a5c5"
      },
      "source": [
        "dic = {}\n",
        "stop = False\n",
        "for pais in listapaises:\n",
        "  vecinos = []\n",
        "  while stop == False:\n",
        "    vec = input(\"Ingrese un vecino de \" + pais + \" o para salir ingrese 0: \")\n",
        "    if vec not in listapaises and vec != str(0):\n",
        "      print(\"El país debe estar en los países ingresados al inicio: \", listapaises)\n",
        "      continue\n",
        "    elif vec == str(0):\n",
        "      break\n",
        "    vecinos.append(vec)\n",
        "  dic[pais] = vecinos\n",
        "print(dic)\n",
        "  "
      ],
      "execution_count": null,
      "outputs": [
        {
          "output_type": "stream",
          "text": [
            "Ingrese un vecino de colombia o para salir ingrese 0: peru\n",
            "Ingrese un vecino de colombia o para salir ingrese 0: 0\n",
            "Ingrese un vecino de peru o para salir ingrese 0: colombia\n",
            "Ingrese un vecino de peru o para salir ingrese 0: chile\n",
            "Ingrese un vecino de peru o para salir ingrese 0: brazil\n",
            "Ingrese un vecino de peru o para salir ingrese 0: 0\n",
            "Ingrese un vecino de chile o para salir ingrese 0: argentina\n",
            "Ingrese un vecino de chile o para salir ingrese 0: peru\n",
            "Ingrese un vecino de chile o para salir ingrese 0: 0\n",
            "Ingrese un vecino de argentina o para salir ingrese 0: chile\n",
            "Ingrese un vecino de argentina o para salir ingrese 0: brazil\n",
            "Ingrese un vecino de argentina o para salir ingrese 0: 0\n",
            "Ingrese un vecino de brazil o para salir ingrese 0: argentina\n",
            "Ingrese un vecino de brazil o para salir ingrese 0: peru\n",
            "Ingrese un vecino de brazil o para salir ingrese 0: 0\n",
            "{'colombia': ['peru'], 'peru': ['colombia', 'chile', 'brazil'], 'chile': ['argentina', 'peru'], 'argentina': ['chile', 'brazil'], 'brazil': ['argentina', 'peru']}\n"
          ],
          "name": "stdout"
        }
      ]
    },
    {
      "cell_type": "code",
      "metadata": {
        "colab": {
          "base_uri": "https://localhost:8080/",
          "height": 464
        },
        "id": "805mxdxKMaLQ",
        "outputId": "120f802d-3580-41f9-b4ec-e8820ec6d3db"
      },
      "source": [
        "x = Graph(strict=True)\n",
        "for pais in listapaises : \n",
        "  for v in dic[pais]:\n",
        "    x.edge(pais, v, color='black')\n",
        "x"
      ],
      "execution_count": null,
      "outputs": [
        {
          "output_type": "execute_result",
          "data": {
            "text/plain": [
              "<graphviz.dot.Graph at 0x7fc1b9c92050>"
            ],
            "image/svg+xml": "<?xml version=\"1.0\" encoding=\"UTF-8\" standalone=\"no\"?>\n<!DOCTYPE svg PUBLIC \"-//W3C//DTD SVG 1.1//EN\"\n \"http://www.w3.org/Graphics/SVG/1.1/DTD/svg11.dtd\">\n<!-- Generated by graphviz version 2.40.1 (20161225.0304)\n -->\n<!-- Title: %3 Pages: 1 -->\n<svg width=\"134pt\" height=\"332pt\"\n viewBox=\"0.00 0.00 134.34 332.00\" xmlns=\"http://www.w3.org/2000/svg\" xmlns:xlink=\"http://www.w3.org/1999/xlink\">\n<g id=\"graph0\" class=\"graph\" transform=\"scale(1 1) rotate(0) translate(4 328)\">\n<title>%3</title>\n<polygon fill=\"#ffffff\" stroke=\"transparent\" points=\"-4,4 -4,-328 130.342,-328 130.342,4 -4,4\"/>\n<!-- colombia -->\n<g id=\"node1\" class=\"node\">\n<title>colombia</title>\n<ellipse fill=\"none\" stroke=\"#000000\" cx=\"80.846\" cy=\"-306\" rx=\"45.4919\" ry=\"18\"/>\n<text text-anchor=\"middle\" x=\"80.846\" y=\"-302.3\" font-family=\"Times,serif\" font-size=\"14.00\" fill=\"#000000\">colombia</text>\n</g>\n<!-- peru -->\n<g id=\"node2\" class=\"node\">\n<title>peru</title>\n<ellipse fill=\"none\" stroke=\"#000000\" cx=\"80.846\" cy=\"-234\" rx=\"27.0966\" ry=\"18\"/>\n<text text-anchor=\"middle\" x=\"80.846\" y=\"-230.3\" font-family=\"Times,serif\" font-size=\"14.00\" fill=\"#000000\">peru</text>\n</g>\n<!-- colombia&#45;&#45;peru -->\n<g id=\"edge1\" class=\"edge\">\n<title>colombia&#45;&#45;peru</title>\n<path fill=\"none\" stroke=\"#000000\" d=\"M80.846,-287.8314C80.846,-277 80.846,-263.2876 80.846,-252.4133\"/>\n</g>\n<!-- chile -->\n<g id=\"node3\" class=\"node\">\n<title>chile</title>\n<ellipse fill=\"none\" stroke=\"#000000\" cx=\"52.846\" cy=\"-162\" rx=\"28.6953\" ry=\"18\"/>\n<text text-anchor=\"middle\" x=\"52.846\" y=\"-158.3\" font-family=\"Times,serif\" font-size=\"14.00\" fill=\"#000000\">chile</text>\n</g>\n<!-- peru&#45;&#45;chile -->\n<g id=\"edge2\" class=\"edge\">\n<title>peru&#45;&#45;chile</title>\n<path fill=\"none\" stroke=\"#000000\" d=\"M73.9247,-216.2022C69.5845,-205.0419 64.0127,-190.7143 59.6878,-179.593\"/>\n</g>\n<!-- brazil -->\n<g id=\"node4\" class=\"node\">\n<title>brazil</title>\n<ellipse fill=\"none\" stroke=\"#000000\" cx=\"80.846\" cy=\"-18\" rx=\"31.3957\" ry=\"18\"/>\n<text text-anchor=\"middle\" x=\"80.846\" y=\"-14.3\" font-family=\"Times,serif\" font-size=\"14.00\" fill=\"#000000\">brazil</text>\n</g>\n<!-- peru&#45;&#45;brazil -->\n<g id=\"edge3\" class=\"edge\">\n<title>peru&#45;&#45;brazil</title>\n<path fill=\"none\" stroke=\"#000000\" d=\"M86.0386,-215.9404C93.9547,-185.9314 107.2771,-123.9548 98.846,-72 96.8199,-59.5142 92.3199,-46.0142 88.3264,-35.6357\"/>\n</g>\n<!-- argentina -->\n<g id=\"node5\" class=\"node\">\n<title>argentina</title>\n<ellipse fill=\"none\" stroke=\"#000000\" cx=\"44.846\" cy=\"-90\" rx=\"44.6926\" ry=\"18\"/>\n<text text-anchor=\"middle\" x=\"44.846\" y=\"-86.3\" font-family=\"Times,serif\" font-size=\"14.00\" fill=\"#000000\">argentina</text>\n</g>\n<!-- chile&#45;&#45;argentina -->\n<g id=\"edge4\" class=\"edge\">\n<title>chile&#45;&#45;argentina</title>\n<path fill=\"none\" stroke=\"#000000\" d=\"M50.8273,-143.8314C49.6238,-133 48.1002,-119.2876 46.8919,-108.4133\"/>\n</g>\n<!-- argentina&#45;&#45;brazil -->\n<g id=\"edge5\" class=\"edge\">\n<title>argentina&#45;&#45;brazil</title>\n<path fill=\"none\" stroke=\"#000000\" d=\"M53.7449,-72.2022C59.3667,-60.9586 66.5959,-46.5003 72.1737,-35.3446\"/>\n</g>\n</g>\n</svg>\n"
          },
          "metadata": {
            "tags": []
          },
          "execution_count": 121
        }
      ]
    },
    {
      "cell_type": "code",
      "metadata": {
        "id": "uhQLC45ANNpI",
        "colab": {
          "base_uri": "https://localhost:8080/",
          "height": 210
        },
        "outputId": "cb5dc095-6a2f-43de-a1a8-6fef9e404df2"
      },
      "source": [
        "pais = input(\"¿De que pais quieres sus vecinos? :\")\n",
        "listadelpaisvec = dic[pais]\n",
        "print(listadelpaisvec)\n",
        "\n",
        "g = Graph(strict= True)\n",
        "for v in listadelpaisvec:\n",
        "  g.edge(pais, v, color='black')\n",
        "g"
      ],
      "execution_count": null,
      "outputs": [
        {
          "output_type": "stream",
          "text": [
            "¿De que pais quieres sus vecinos? :peru\n",
            "['colombia', 'chile', 'brazil']\n"
          ],
          "name": "stdout"
        },
        {
          "output_type": "execute_result",
          "data": {
            "text/plain": [
              "<graphviz.dot.Graph at 0x7fc1bdc3cad0>"
            ],
            "image/svg+xml": "<?xml version=\"1.0\" encoding=\"UTF-8\" standalone=\"no\"?>\n<!DOCTYPE svg PUBLIC \"-//W3C//DTD SVG 1.1//EN\"\n \"http://www.w3.org/Graphics/SVG/1.1/DTD/svg11.dtd\">\n<!-- Generated by graphviz version 2.40.1 (20161225.0304)\n -->\n<!-- Title: %3 Pages: 1 -->\n<svg width=\"255pt\" height=\"116pt\"\n viewBox=\"0.00 0.00 254.69 116.00\" xmlns=\"http://www.w3.org/2000/svg\" xmlns:xlink=\"http://www.w3.org/1999/xlink\">\n<g id=\"graph0\" class=\"graph\" transform=\"scale(1 1) rotate(0) translate(4 112)\">\n<title>%3</title>\n<polygon fill=\"#ffffff\" stroke=\"transparent\" points=\"-4,4 -4,-112 250.6932,-112 250.6932,4 -4,4\"/>\n<!-- peru -->\n<g id=\"node1\" class=\"node\">\n<title>peru</title>\n<ellipse fill=\"none\" stroke=\"#000000\" cx=\"137.496\" cy=\"-90\" rx=\"27.0966\" ry=\"18\"/>\n<text text-anchor=\"middle\" x=\"137.496\" y=\"-86.3\" font-family=\"Times,serif\" font-size=\"14.00\" fill=\"#000000\">peru</text>\n</g>\n<!-- colombia -->\n<g id=\"node2\" class=\"node\">\n<title>colombia</title>\n<ellipse fill=\"none\" stroke=\"#000000\" cx=\"45.496\" cy=\"-18\" rx=\"45.4919\" ry=\"18\"/>\n<text text-anchor=\"middle\" x=\"45.496\" y=\"-14.3\" font-family=\"Times,serif\" font-size=\"14.00\" fill=\"#000000\">colombia</text>\n</g>\n<!-- peru&#45;&#45;colombia -->\n<g id=\"edge1\" class=\"edge\">\n<title>peru&#45;&#45;colombia</title>\n<path fill=\"none\" stroke=\"#000000\" d=\"M119.7574,-76.1177C104.4062,-64.1037 82.1989,-46.724 66.071,-34.1022\"/>\n</g>\n<!-- chile -->\n<g id=\"node3\" class=\"node\">\n<title>chile</title>\n<ellipse fill=\"none\" stroke=\"#000000\" cx=\"137.496\" cy=\"-18\" rx=\"28.6953\" ry=\"18\"/>\n<text text-anchor=\"middle\" x=\"137.496\" y=\"-14.3\" font-family=\"Times,serif\" font-size=\"14.00\" fill=\"#000000\">chile</text>\n</g>\n<!-- peru&#45;&#45;chile -->\n<g id=\"edge2\" class=\"edge\">\n<title>peru&#45;&#45;chile</title>\n<path fill=\"none\" stroke=\"#000000\" d=\"M137.496,-71.8314C137.496,-61 137.496,-47.2876 137.496,-36.4133\"/>\n</g>\n<!-- brazil -->\n<g id=\"node4\" class=\"node\">\n<title>brazil</title>\n<ellipse fill=\"none\" stroke=\"#000000\" cx=\"215.496\" cy=\"-18\" rx=\"31.3957\" ry=\"18\"/>\n<text text-anchor=\"middle\" x=\"215.496\" y=\"-14.3\" font-family=\"Times,serif\" font-size=\"14.00\" fill=\"#000000\">brazil</text>\n</g>\n<!-- peru&#45;&#45;brazil -->\n<g id=\"edge3\" class=\"edge\">\n<title>peru&#45;&#45;brazil</title>\n<path fill=\"none\" stroke=\"#000000\" d=\"M153.6576,-75.0816C166.8659,-62.8893 185.4702,-45.7161 198.8168,-33.3961\"/>\n</g>\n</g>\n</svg>\n"
          },
          "metadata": {
            "tags": []
          },
          "execution_count": 119
        }
      ]
    },
    {
      "cell_type": "code",
      "metadata": {
        "colab": {
          "base_uri": "https://localhost:8080/"
        },
        "id": "WXO5kZCcNY76",
        "outputId": "f0bffda4-ee62-415e-f4cf-0f8847edcd10"
      },
      "source": [
        "listapaises = ['Colombia', 'Perú', 'Chile', 'Argentina', 'Brasil']\n",
        "dic = {'Colombia':[\"Perú\"], 'Perú':[\"Colombia\",\"Chile\",\"Brasil\"], \"Chile\":[\"Argentina\", \"Perú\"], \"Argentina\":[\"Chile\",'Brasil'], \"Brasil\":['Argentina', 'Perú']}\n",
        "origen = input(\"Ingresar el país de origen: \")\n",
        "if origen not in listapaises:\n",
        "  print(\"El país debe estar en los países ingresados al inicio: \", listapaises)\n",
        "  origen = input(\"Ingresar el país de origen: \")\n",
        "destino = input(\"Ingresar el destino: \")\n",
        "if destino not in listapaises:\n",
        "  print(\"El país debe estar en los países ingresados al inicio: \", listapaises)"
      ],
      "execution_count": 20,
      "outputs": [
        {
          "output_type": "stream",
          "text": [
            "Ingresar el país de origen: Colombia\n",
            "Ingresar el destino: Argentina\n"
          ],
          "name": "stdout"
        }
      ]
    },
    {
      "cell_type": "code",
      "metadata": {
        "colab": {
          "base_uri": "https://localhost:8080/",
          "height": 464
        },
        "id": "uHLoLr2C7vFw",
        "outputId": "18f0f991-720b-4b62-92bb-ed709e4999f0"
      },
      "source": [
        "from graphviz import Graph\n",
        "x = Graph(strict=True)\n",
        "\n",
        "for pais in listapaises: \n",
        "  for v in dic[pais]:\n",
        "    x.edge(pais, v, color='black')\n",
        "\n",
        "for pais in listapaises:\n",
        "  if pais == origen:\n",
        "    if destino in dic[origen]:\n",
        "      x.edge(origen, destino, color = \"blue\")\n",
        "      break\n",
        "    else:\n",
        "      for conexion in dic[origen]:\n",
        "        if destino in dic[conexion]:\n",
        "          x.edge(origen, conexion, color = \"blue\")\n",
        "          x.edge(conexion, destino, color = \"blue\")\n",
        "          break\n",
        "        else:\n",
        "          continue\n",
        "x"
      ],
      "execution_count": 26,
      "outputs": [
        {
          "output_type": "execute_result",
          "data": {
            "text/plain": [
              "<graphviz.dot.Graph at 0x7fa0079e3b50>"
            ],
            "image/svg+xml": "<?xml version=\"1.0\" encoding=\"UTF-8\" standalone=\"no\"?>\n<!DOCTYPE svg PUBLIC \"-//W3C//DTD SVG 1.1//EN\"\n \"http://www.w3.org/Graphics/SVG/1.1/DTD/svg11.dtd\">\n<!-- Generated by graphviz version 2.40.1 (20161225.0304)\n -->\n<!-- Title: %3 Pages: 1 -->\n<svg width=\"142pt\" height=\"332pt\"\n viewBox=\"0.00 0.00 142.19 332.00\" xmlns=\"http://www.w3.org/2000/svg\" xmlns:xlink=\"http://www.w3.org/1999/xlink\">\n<g id=\"graph0\" class=\"graph\" transform=\"scale(1 1) rotate(0) translate(4 328)\">\n<title>%3</title>\n<polygon fill=\"#ffffff\" stroke=\"transparent\" points=\"-4,4 -4,-328 138.1915,-328 138.1915,4 -4,4\"/>\n<!-- Colombia -->\n<g id=\"node1\" class=\"node\">\n<title>Colombia</title>\n<ellipse fill=\"none\" stroke=\"#000000\" cx=\"86.0957\" cy=\"-306\" rx=\"48.1917\" ry=\"18\"/>\n<text text-anchor=\"middle\" x=\"86.0957\" y=\"-302.3\" font-family=\"Times,serif\" font-size=\"14.00\" fill=\"#000000\">Colombia</text>\n</g>\n<!-- Perú -->\n<g id=\"node2\" class=\"node\">\n<title>Perú</title>\n<ellipse fill=\"none\" stroke=\"#000000\" cx=\"86.0957\" cy=\"-234\" rx=\"27.8951\" ry=\"18\"/>\n<text text-anchor=\"middle\" x=\"86.0957\" y=\"-230.3\" font-family=\"Times,serif\" font-size=\"14.00\" fill=\"#000000\">Perú</text>\n</g>\n<!-- Colombia&#45;&#45;Perú -->\n<g id=\"edge1\" class=\"edge\">\n<title>Colombia&#45;&#45;Perú</title>\n<path fill=\"none\" stroke=\"#000000\" d=\"M86.0957,-287.8314C86.0957,-277 86.0957,-263.2876 86.0957,-252.4133\"/>\n</g>\n<!-- Chile -->\n<g id=\"node3\" class=\"node\">\n<title>Chile</title>\n<ellipse fill=\"none\" stroke=\"#000000\" cx=\"57.0957\" cy=\"-162\" rx=\"30.5947\" ry=\"18\"/>\n<text text-anchor=\"middle\" x=\"57.0957\" y=\"-158.3\" font-family=\"Times,serif\" font-size=\"14.00\" fill=\"#000000\">Chile</text>\n</g>\n<!-- Perú&#45;&#45;Chile -->\n<g id=\"edge2\" class=\"edge\">\n<title>Perú&#45;&#45;Chile</title>\n<path fill=\"none\" stroke=\"#0000ff\" d=\"M79.0756,-216.5708C74.5496,-205.3339 68.6847,-190.7727 64.1517,-179.5182\"/>\n</g>\n<!-- Brasil -->\n<g id=\"node4\" class=\"node\">\n<title>Brasil</title>\n<ellipse fill=\"none\" stroke=\"#000000\" cx=\"86.0957\" cy=\"-18\" rx=\"32.4942\" ry=\"18\"/>\n<text text-anchor=\"middle\" x=\"86.0957\" y=\"-14.3\" font-family=\"Times,serif\" font-size=\"14.00\" fill=\"#000000\">Brasil</text>\n</g>\n<!-- Perú&#45;&#45;Brasil -->\n<g id=\"edge3\" class=\"edge\">\n<title>Perú&#45;&#45;Brasil</title>\n<path fill=\"none\" stroke=\"#000000\" d=\"M91.5696,-215.9324C99.9152,-185.912 113.9632,-123.9192 105.0957,-72 102.9541,-59.4604 98.2041,-45.9604 93.9895,-35.5953\"/>\n</g>\n<!-- Argentina -->\n<g id=\"node5\" class=\"node\">\n<title>Argentina</title>\n<ellipse fill=\"none\" stroke=\"#000000\" cx=\"48.0957\" cy=\"-90\" rx=\"48.1917\" ry=\"18\"/>\n<text text-anchor=\"middle\" x=\"48.0957\" y=\"-86.3\" font-family=\"Times,serif\" font-size=\"14.00\" fill=\"#000000\">Argentina</text>\n</g>\n<!-- Chile&#45;&#45;Argentina -->\n<g id=\"edge4\" class=\"edge\">\n<title>Chile&#45;&#45;Argentina</title>\n<path fill=\"none\" stroke=\"#0000ff\" d=\"M54.8247,-143.8314C53.4707,-133 51.7567,-119.2876 50.3974,-108.4133\"/>\n</g>\n<!-- Argentina&#45;&#45;Brasil -->\n<g id=\"edge5\" class=\"edge\">\n<title>Argentina&#45;&#45;Brasil</title>\n<path fill=\"none\" stroke=\"#000000\" d=\"M57.489,-72.2022C63.4231,-60.9586 71.0539,-46.5003 76.9416,-35.3446\"/>\n</g>\n</g>\n</svg>\n"
          },
          "metadata": {
            "tags": []
          },
          "execution_count": 26
        }
      ]
    }
  ]
}